{
 "cells": [
  {
   "cell_type": "code",
   "execution_count": 12,
   "id": "bfa28b46",
   "metadata": {},
   "outputs": [
    {
     "name": "stdout",
     "output_type": "stream",
     "text": [
      "[1 2 3 4]\n",
      "1\n",
      "2\n",
      "3\n",
      "4\n",
      "10\n",
      "<class 'numpy.ndarray'>\n",
      "367 ns ± 1.97 ns per loop (mean ± std. dev. of 7 runs, 1,000,000 loops each)\n",
      "1.39 μs ± 12.5 ns per loop (mean ± std. dev. of 7 runs, 1,000,000 loops each)\n",
      "[1 2 3 4 5]\n"
     ]
    }
   ],
   "source": [
    "'''\n",
    "=>advantage of using Numpy Arrays over Python Lists:\n",
    "1.Consumes les memory\n",
    "2.fast as compared to the python list\n",
    "3.convenient to use\n",
    "'''\n",
    "List=[1,2,3,4,5,5];\n",
    "import numpy as np;\n",
    "a=np.array([1,2,3,4]);\n",
    "print(a);\n",
    "for i in a:print(i);\n",
    "sum=0;\n",
    "for i in a:\n",
    "    sum=sum+i;\n",
    "print(sum);\n",
    "print(type(a))\n",
    "\n",
    "#Data type storage\n",
    "#Importing module\n",
    "#Numerical operation\n",
    "#Modification capabilities\n",
    "#Consumes less memory\n",
    "#fast as compared to the python list\n",
    "#Convenient to use\n",
    "%timeit [j**4 for j in range(1,9)];\n",
    "%timeit np.arange(1,9)**4;\n",
    "a=np.array([1,2,3,4,5]);\n",
    "print(a);"
   ]
  },
  {
   "cell_type": "code",
   "execution_count": 19,
   "id": "0502309f",
   "metadata": {},
   "outputs": [
    {
     "name": "stdout",
     "output_type": "stream",
     "text": [
      "[1 2 3 4 5]\n",
      "<class 'numpy.ndarray'>\n",
      "[1 2 3 4]\n"
     ]
    }
   ],
   "source": [
    "import numpy as np;\n",
    "x=[1,2,3,4,5];\n",
    "y=np.array(x);\n",
    "print(y);\n",
    "print(type(y))\n",
    "L=[];\n",
    "for i in range(1,5):\n",
    "    int_1=input('enter value');\n",
    "    int_1=int(int_1);\n",
    "    L.append(int_1);\n",
    "print(np.array(L));\n",
    "    "
   ]
  },
  {
   "cell_type": "code",
   "execution_count": 25,
   "id": "f0e0fecc",
   "metadata": {},
   "outputs": [
    {
     "name": "stdout",
     "output_type": "stream",
     "text": [
      "1\n",
      "2\n",
      "3\n",
      "[[[[[1 2 3 4]]]]]\n",
      "5\n"
     ]
    }
   ],
   "source": [
    "'''\n",
    "1.1-D arrays\n",
    "2.2-D arrays\n",
    "3.3-D arrays\n",
    "4.Higher Dimension arrays\n",
    "'''\n",
    "##1-dimension array\n",
    "a=[1,2,3,4,5,6,7];\n",
    "##2-dimension array\n",
    "b=[[1,2,3,4],[5,6,7,8]]\n",
    "##3-dimension array\n",
    "c=[[[1,2,3],[4,5,6],[7,8,9]]]\n",
    "\n",
    "od1=np.array(a);\n",
    "td1=np.array(b);\n",
    "three_d1=np.array(c);\n",
    "print(od1.ndim);\n",
    "print(td1.ndim);\n",
    "print(three_d1.ndim);\n",
    "\n",
    "\n",
    "arn=np.array([1,2,3,4],ndmin=5);\n",
    "print(arn);\n",
    "print(arn.ndim)"
   ]
  },
  {
   "cell_type": "code",
   "execution_count": null,
   "id": "0ca2985a",
   "metadata": {},
   "outputs": [
    {
     "name": "stdout",
     "output_type": "stream",
     "text": [
      "[[0. 0. 0. 0.]\n",
      " [0. 0. 0. 0.]\n",
      " [0. 0. 0. 0.]]\n",
      "[[1. 1. 1.]\n",
      " [1. 1. 1.]\n",
      " [1. 1. 1.]]\n",
      "[[0.00000000e+000 0.00000000e+000 0.00000000e+000 0.00000000e+000]\n",
      " [0.00000000e+000 0.00000000e+000 0.00000000e+000 0.00000000e+000]\n",
      " [0.00000000e+000 0.00000000e+000 0.00000000e+000 0.00000000e+000]\n",
      " [0.00000000e+000 0.00000000e+000 0.00000000e+000 2.12199579e-314]]\n",
      "4\n",
      "[[1. 0. 0. 0. 0.]\n",
      " [0. 1. 0. 0. 0.]\n",
      " [0. 0. 1. 0. 0.]]\n",
      "[ 1.    3.25  5.5   7.75 10.  ]\n",
      "[]\n"
     ]
    }
   ],
   "source": [
    "'''\n",
    "Special Numpy Array\n",
    "=>Array filled with 0's\n",
    "=>Array filled with 1's\n",
    "=>Create and empty array\n",
    "=>An array with a range of elements\n",
    "=>Array diagonal element filled with 1's\n",
    "=>Create an array with values that are spaced linearly in a  specified interval\n",
    "'''\n",
    "import numpy as np;\n",
    "ar_zero=np.zeros(4);\n",
    "arr_d2=np.zeros((3,4))\n",
    "print(arr_d2);\n",
    "oned_num=np.ones(3)\n",
    "oned_num=np.ones((3,3))\n",
    "print(oned_num)\n",
    "empty_numpy_arr=np.empty(4);\n",
    "empty_numpy_arr=np.empty((4,4))\n",
    "print(empty_numpy_arr)\n",
    "arr_rn=np.array(4);\n",
    "print(arr_rn);\n",
    "##diagonal numpy array\n",
    "ar_digonal=np.eye(3,5);\n",
    "print(ar_digonal)\n",
    "##Line space \n",
    "ar_line=np.linspace(1,10,num=5);\n",
    "print(ar_line);\n",
    "\n"
   ]
  },
  {
   "cell_type": "code",
   "execution_count": 57,
   "id": "8939db56",
   "metadata": {},
   "outputs": [
    {
     "name": "stdout",
     "output_type": "stream",
     "text": [
      "[0.42172247 0.3705062  0.41742425 0.74283847]\n",
      "**********\n",
      "[[0.39808746 0.77592541 0.55873457 0.47283546 0.03521741]\n",
      " [0.59276748 0.61575542 0.75938068 0.93127234 0.63693907]]\n",
      "**********\n",
      "[ 1.28313955 -1.58435235 -0.54837108 -0.56162513  0.46835807]\n",
      "**********\n",
      "[[0.89674724 0.13843134 0.27227279 0.85163425 0.05856006]\n",
      " [0.21212103 0.60646817 0.42224981 0.1437635  0.99076682]]\n",
      "**********\n",
      "[0.26662043 0.76011497 0.2114793  0.9753527  0.92236378]\n",
      "**********\n",
      "[91 83 58 67 59]\n"
     ]
    }
   ],
   "source": [
    "##Create numpy arrays with random arrays\n",
    "##functions\n",
    "'''\n",
    "1.rand():the function is used to generate a random value between 0 to 1\n",
    "2.randn():the function is used to generate a random value close to zero.This \n",
    "may return positive or negative numbers as well\n",
    "3.ranf():The function for doing random sampling in numpy.It\n",
    "return an array of specified shape and fills it with random floats in the half-open \n",
    "interval[0.0,1,.0]\n",
    "4.randint():The function is used to generate a  random number between a given number\n",
    "'''\n",
    "\n",
    "##rand()\n",
    "import numpy as np;\n",
    "var=np.random.rand(4);##One dimension\n",
    "print(var);\n",
    "print(\"**********\")\n",
    "var1=np.random.rand(2,5)##two dimension\n",
    "print(var1);\n",
    "print(\"**********\")\n",
    "##randn()\n",
    "var2=np.random.randn(5)##One dimension\n",
    "print(var2);\n",
    "print(\"**********\")\n",
    "var3=np.random.rand(2,5);##2-d array\n",
    "print(var3);\n",
    "print(\"**********\")\n",
    "##ranf()\n",
    "var4=np.random.ranf(5);##1-d array\n",
    "print(var4);\n",
    "print(\"**********\")\n",
    "##randint()\n",
    "var5=np.random.randint(4);\n",
    "max=20\n",
    "min=5;\n",
    "t=5\n",
    "var5=np.random.randint(min,max,t)\n",
    "var5=np.random.randint(1,100,5);\n",
    "print(var5)\n"
   ]
  },
  {
   "cell_type": "code",
   "execution_count": null,
   "id": "7c58560b",
   "metadata": {},
   "outputs": [],
   "source": []
  }
 ],
 "metadata": {
  "kernelspec": {
   "display_name": "Python 3",
   "language": "python",
   "name": "python3"
  },
  "language_info": {
   "codemirror_mode": {
    "name": "ipython",
    "version": 3
   },
   "file_extension": ".py",
   "mimetype": "text/x-python",
   "name": "python",
   "nbconvert_exporter": "python",
   "pygments_lexer": "ipython3",
   "version": "3.12.6"
  }
 },
 "nbformat": 4,
 "nbformat_minor": 5
}
