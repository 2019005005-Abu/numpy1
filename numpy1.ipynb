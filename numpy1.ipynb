{
 "cells": [
  {
   "cell_type": "code",
   "execution_count": 17,
   "id": "494cf33b",
   "metadata": {},
   "outputs": [
    {
     "name": "stdout",
     "output_type": "stream",
     "text": [
      "[[ 1  2  3  4  5]\n",
      " [ 6  7  8  9 10]]\n",
      "[[ 6  8 10]\n",
      " [17 15 17]]\n",
      "[[ 6  8]\n",
      " [10 17]\n",
      " [15 17]]\n",
      "Multiple-matrix [[ 3  6  9]\n",
      " [12 15 18]]\n"
     ]
    }
   ],
   "source": [
    "import numpy as np;\n",
    "matrix=np.array([[1,2,3],[4,5,6]]);\n",
    "matrix=matrix.reshape(3,2);\n",
    "matrix=np.array([[1,2,3,4,5],[6,7,8,9,10]]);\n",
    "print(matrix)\n",
    "matrix1=np.array([[1,2,3],[4,5,6]]);\n",
    "matrix2=np.array([[5,6,7],[13,10,11]]);\n",
    "subtraction_Of_matrix=matrix1+matrix2;\n",
    "print(subtraction_Of_matrix);\n",
    "reshape_matrix=subtraction_Of_matrix.reshape(3,2);\n",
    "print(reshape_matrix)\n",
    "scaler_multiple_matrix=matrix1*3;\n",
    "print(f\"Multiple-matrix\",scaler_multiple_matrix);"
   ]
  },
  {
   "cell_type": "code",
   "execution_count": 26,
   "id": "761da217",
   "metadata": {},
   "outputs": [
    {
     "name": "stdout",
     "output_type": "stream",
     "text": [
      "[2 4 7 8 9 5]\n",
      "[0. 0. 0. 0. 0.]\n",
      "[1. 1. 1. 1. 1.]\n",
      "5\n",
      "2500\n"
     ]
    }
   ],
   "source": [
    "list_array=np.array([2,4,7,8,9,5]);\n",
    "print(list_array)\n",
    "zeros__array=np.zeros(5);\n",
    "print(zeros__array)\n",
    "ones__arrays=np.ones(5);\n",
    "print(ones__arrays)\n",
    "transpose_array=np.transpose(5);\n",
    "print(transpose_array)\n",
    "arrange_array=np.arange(1,10,2);\n",
    "arrange_array=np.arange(1,100,2);\n",
    "print(sum(arrange_array));"
   ]
  },
  {
   "cell_type": "code",
   "execution_count": 28,
   "id": "2cb19cf3",
   "metadata": {},
   "outputs": [
    {
     "name": "stdout",
     "output_type": "stream",
     "text": [
      "add:[6 6 6 6 6]\n",
      "multiplication:[5 8 9 8 5]\n",
      "division:[0 0 1 2 5]\n",
      "slice-result: [20 30 40 50]\n",
      "step-slice-result:[10 30 50]\n"
     ]
    }
   ],
   "source": [
    "import numpy as np;\n",
    "arr1=np.array([1,2,3,4,5]);\n",
    "arr2=np.array([5,4,3,2,1]);\n",
    "additionOfArray=arr1+arr2;\n",
    "multiplication=arr1*arr2;\n",
    "divisionOfArray=arr1//arr2;\n",
    "print(f'add:{additionOfArray}');\n",
    "print(f'multiplication:{multiplication}');\n",
    "print(f'division:{divisionOfArray}');\n",
    "\n",
    "arr=np.array([10,20,30,40,50]);\n",
    "slice_result=arr[1:5];\n",
    "print(f'slice-result: {slice_result}');\n",
    "step_slice_result=arr[::2];\n",
    "print(f'step-slice-result:{step_slice_result}')\n"
   ]
  }
 ],
 "metadata": {
  "kernelspec": {
   "display_name": "Python 3",
   "language": "python",
   "name": "python3"
  },
  "language_info": {
   "codemirror_mode": {
    "name": "ipython",
    "version": 3
   },
   "file_extension": ".py",
   "mimetype": "text/x-python",
   "name": "python",
   "nbconvert_exporter": "python",
   "pygments_lexer": "ipython3",
   "version": "3.12.6"
  }
 },
 "nbformat": 4,
 "nbformat_minor": 5
}
